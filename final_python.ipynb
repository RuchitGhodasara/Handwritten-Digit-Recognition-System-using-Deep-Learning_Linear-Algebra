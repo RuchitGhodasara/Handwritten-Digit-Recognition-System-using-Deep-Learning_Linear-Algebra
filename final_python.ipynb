{
 "cells": [
  {
   "cell_type": "markdown",
   "metadata": {},
   "source": [
    "## Importing the data"
   ]
  },
  {
   "cell_type": "code",
   "execution_count": 1,
   "metadata": {
    "collapsed": true
   },
   "outputs": [],
   "source": [
    "import tensorflow as tf\n",
    "import keras\n",
    "from keras.models import Sequential\n",
    "from keras.layers import Conv2D, MaxPooling2D\n",
    "from keras.layers.core import Dense, Dropout, Flatten\n",
    "from keras.utils.np_utils import to_categorical\n",
    "import numpy as np\n",
    "import matplotlib.pyplot as plt\n",
    "\n",
    "(x_train,y_train),(x_test,y_test)=tf.keras.datasets.mnist.load_data()\n",
    "\n"
   ]
  },
  {
   "cell_type": "markdown",
   "metadata": {},
   "source": [
    "### Converting the data into usable formate"
   ]
  },
  {
   "cell_type": "code",
   "execution_count": 2,
   "metadata": {},
   "outputs": [],
   "source": [
    "x_train = x_train.reshape(x_train.shape[0],x_train.shape[1],x_train.shape[2],1)\n",
    "# .shape[0] shows rows and .shape[1] shows columns\n",
    "y_train = to_categorical(y_train)\n",
    "# to_catagorial will transform numbers into proper Vectors (Array)\n",
    "\n",
    "x_test = x_test.reshape(x_test.shape[0],x_test.shape[1],x_test.shape[2],1)\n",
    "y_test = to_categorical(y_test)"
   ]
  },
  {
   "cell_type": "markdown",
   "metadata": {},
   "source": [
    "### Creating the Network\n",
    "### Networking the Network"
   ]
  },
  {
   "cell_type": "code",
   "execution_count": 3,
   "metadata": {},
   "outputs": [
    {
     "name": "stdout",
     "output_type": "stream",
     "text": [
      "Epoch 1/4\n",
      "157/157 [==============================] - 16s 98ms/step - loss: 2.3440 - accuracy: 0.1742\n",
      "Epoch 2/4\n",
      "157/157 [==============================] - 15s 96ms/step - loss: 0.7087 - accuracy: 0.7932\n",
      "Epoch 3/4\n",
      "157/157 [==============================] - 16s 100ms/step - loss: 0.3801 - accuracy: 0.8872\n",
      "Epoch 4/4\n",
      "157/157 [==============================] - 18s 118ms/step - loss: 0.2890 - accuracy: 0.9146\n"
     ]
    },
    {
     "data": {
      "text/plain": [
       "<keras.callbacks.History at 0x230b2d42340>"
      ]
     },
     "execution_count": 3,
     "metadata": {},
     "output_type": "execute_result"
    }
   ],
   "source": [
    "\n",
    "def myModel():\n",
    "\n",
    "    # Training a Neural Network Using Machine Learning Library\n",
    "\n",
    "\n",
    "    # Required Variables for Model\n",
    "\n",
    "    noOfFilters = 60\n",
    "    sizeOfFilter1 = (5,5)\n",
    "    sizeOfFilter2 = (3,3)\n",
    "    sizeOfPool = (2,2)\n",
    "    noOfNodes = 784\n",
    "\n",
    "    #Creating model with No Layers\n",
    "    model = Sequential()\n",
    "    \n",
    "    #Creating 1st Layer\n",
    "    model.add((Conv2D(noOfFilters,sizeOfFilter1,input_shape=(28,28,1),activation='sigmoid')))\n",
    "\n",
    "    #Adds Further Layers...\n",
    "    model.add((Conv2D(noOfFilters,sizeOfFilter1,activation='sigmoid')))\n",
    "    model.add(MaxPooling2D(pool_size=sizeOfPool))\n",
    "    model.add((Conv2D(noOfFilters//2,sizeOfFilter2,activation='sigmoid')))\n",
    "    model.add((Conv2D(noOfFilters//2,sizeOfFilter2,activation='sigmoid')))\n",
    "    model.add(MaxPooling2D(pool_size=sizeOfPool))\n",
    "    model.add(Dropout(0.5)) # Scale the values by (1/0.5)\n",
    "    model.add(Flatten())\n",
    "    model.add(Dense(noOfNodes,activation='sigmoid'))\n",
    "    model.add(Dropout(0.5))\n",
    "\n",
    "    model.add(Dense(10,activation = 'softmax'))\n",
    "    opt = tf.keras.optimizers.Adam(learning_rate = 0.001) #Adam optimization is a stochastic gradient descent method\n",
    "    model.compile(optimizer=opt,loss = 'categorical_crossentropy',metrics=['accuracy'])\n",
    "\n",
    "    return model\n",
    "\n",
    "model = myModel()\n",
    "\n",
    "# Epochs suggest number of runs over training data\n",
    "model.fit(x_train[:5000],y_train[:5000],epochs=4)"
   ]
  },
  {
   "cell_type": "markdown",
   "metadata": {},
   "source": [
    "### Checking the Accuracy"
   ]
  },
  {
   "cell_type": "code",
   "execution_count": 4,
   "metadata": {},
   "outputs": [
    {
     "name": "stdout",
     "output_type": "stream",
     "text": [
      "157/157 [==============================] - 4s 25ms/step - loss: 0.2877 - accuracy: 0.9090\n"
     ]
    },
    {
     "data": {
      "text/plain": [
       "[0.28766849637031555, 0.9089999794960022]"
      ]
     },
     "execution_count": 4,
     "metadata": {},
     "output_type": "execute_result"
    }
   ],
   "source": [
    "model.evaluate(x_test[:5000],y_test[:5000])"
   ]
  },
  {
   "cell_type": "markdown",
   "metadata": {},
   "source": [
    "## Calling predict() function"
   ]
  },
  {
   "cell_type": "code",
   "execution_count": 5,
   "metadata": {},
   "outputs": [],
   "source": [
    "\n",
    "def sayNum(n):\n",
    "    prediction = model.predict(x_test[n:n+1])\n",
    "    for i in prediction:\n",
    "        MaxPosition=np.argmax(i)\n",
    "        print(\"The predicted value is : \",MaxPosition)\n",
    "\n",
    "def printImg(n):\n",
    "     (plt.imshow(x_test[n]))\n"
   ]
  },
  {
   "cell_type": "markdown",
   "metadata": {},
   "source": [
    "# Output"
   ]
  },
  {
   "cell_type": "code",
   "execution_count": 9,
   "metadata": {},
   "outputs": [
    {
     "data": {
      "image/png": "[encoded data removed]",
      "text/plain": [
       "<Figure size 432x288 with 1 Axes>"
      ]
     },
     "metadata": {
      "needs_background": "light"
     },
     "output_type": "display_data"
    }
   ],
   "source": [
    "x=int(input(\"Enter Random number: \"))\n",
    "printImg(x)\n"
   ]
  },
  {
   "cell_type": "code",
   "execution_count": 10,
   "metadata": {},
   "outputs": [
    {
     "name": "stdout",
     "output_type": "stream",
     "text": [
      "The predicted value is :  9\n"
     ]
    }
   ],
   "source": [
    "sayNum(x)"
   ]
  },
  {
   "cell_type": "code",
   "execution_count": null,
   "metadata": {},
   "outputs": [],
   "source": []
  }
 ],
 "metadata": {
  "interpreter": {
   "hash": "33dc6d49505b4536b6a128d9d7c879e1fa44477ad44947bbbe73093067fe6393"
  },
  "kernelspec": {
   "display_name": "Julia 1.6.3",
   "language": "python",
   "name": "python3"
  },
  "language_info": {
   "codemirror_mode": {
    "name": "ipython",
    "version": 3
   },
   "file_extension": ".py",
   "mimetype": "text/x-python",
   "name": "python",
   "nbconvert_exporter": "python",
   "pygments_lexer": "ipython3",
   "version": "3.9.0"
  }
 },
 "nbformat": 4,
 "nbformat_minor": 4
}
